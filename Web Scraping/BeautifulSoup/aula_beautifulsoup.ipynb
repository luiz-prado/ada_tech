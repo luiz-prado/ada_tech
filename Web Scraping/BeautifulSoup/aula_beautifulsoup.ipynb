{
 "cells": [
  {
   "cell_type": "markdown",
   "metadata": {},
   "source": [
    "## Web Scraping com BeautifulSoup"
   ]
  },
  {
   "cell_type": "markdown",
   "metadata": {},
   "source": [
    "#### **O que é?**"
   ]
  },
  {
   "cell_type": "markdown",
   "metadata": {},
   "source": [
    "Biblioteca em Python voltada a parsear documentos HTML e XML"
   ]
  },
  {
   "cell_type": "markdown",
   "metadata": {},
   "source": [
    "#### **Como utilizar?**"
   ]
  },
  {
   "cell_type": "markdown",
   "metadata": {},
   "source": [
    "pip install beautifulsoup4"
   ]
  },
  {
   "cell_type": "code",
   "execution_count": 1,
   "metadata": {},
   "outputs": [],
   "source": [
    "from bs4 import BeautifulSoup"
   ]
  },
  {
   "cell_type": "markdown",
   "metadata": {},
   "source": [
    "#### **Quando utilizar?**\n",
    "\n",
    "- Localizar\n",
    "- Manipular\n",
    "- Extrair"
   ]
  },
  {
   "cell_type": "markdown",
   "metadata": {},
   "source": [
    "Exemplo:"
   ]
  },
  {
   "cell_type": "code",
   "execution_count": 15,
   "metadata": {},
   "outputs": [],
   "source": [
    "html = \"\"\"<!DOCTYPE html>\n",
    "<html lang=\"pt-BR\">\n",
    "<head>\n",
    "    <meta charset=\"UTF-8\">\n",
    "    <meta name=\"viewport\" content=\"width=device-width, initial-scale=1.0\">\n",
    "    <title>Estudo de Web Scraping com Python</title>\n",
    "</head>\n",
    "<body>\n",
    "    <h1 id = \"teste2\">Bem-vindo ao Estudo de Web Scraping com Python</h1>\n",
    "    <p>O web scraping é uma técnica utilizada para extrair dados de sites da web. Com o Python, podemos usar bibliotecas como BeautifulSoup e Scrapy para realizar essa tarefa de maneira eficiente.</p>\n",
    "    \n",
    "    <h2 class = \"teste\">Principais Bibliotecas para Web Scraping em Python</h2>\n",
    "    <ul>\n",
    "        <li>BeautifulSoup</li>\n",
    "        <li>Scrapy</li>\n",
    "        <li>Requests</li>\n",
    "        <li>Selenium</li>\n",
    "    </ul>\n",
    "    \n",
    "    <h2>Exemplo de Dados para Scraping</h2>\n",
    "    <table>\n",
    "        <tr>\n",
    "            <th>Nome</th>\n",
    "            <th>Idade</th>\n",
    "            <th>Profissão</th>\n",
    "        </tr>\n",
    "        <tr>\n",
    "            <td>Ana</td>\n",
    "            <td>28</td>\n",
    "            <td>Engenheira</td>\n",
    "        </tr>\n",
    "        <tr>\n",
    "            <td>João</td>\n",
    "            <td>34</td>\n",
    "            <td>Professor</td>\n",
    "        </tr>\n",
    "        <tr>\n",
    "            <td>Maria</td>\n",
    "            <td>25</td>\n",
    "            <td>Designer</td>\n",
    "        </tr>\n",
    "    </table>\n",
    "    \n",
    "    <h2>Links Úteis</h2>\n",
    "    <p>Abaixo estão alguns links úteis para aprender mais sobre web scraping:</p>\n",
    "    <ul>\n",
    "        <li><a href=\"https://www.crummy.com/software/BeautifulSoup/\" target=\"_blank\">Documentação do BeautifulSoup</a></li>\n",
    "        <li><a href=\"https://scrapy.org/\" target=\"_blank\">Site oficial do Scrapy</a></li>\n",
    "        <li><a href=\"https://www.selenium.dev/\" target=\"_blank\">Selenium</a></li>\n",
    "        <li><a href=\"https://requests.readthedocs.io/\" target=\"_blank\">Requests</a></li>\n",
    "    </ul>\n",
    "</body>\n",
    "</html>\n",
    "\"\"\"\n",
    "\n",
    "html_parsed = BeautifulSoup(html, 'html.parser') # Parseando o HTML com BeautifulSoup e definindo o parser como html.parser"
   ]
  },
  {
   "cell_type": "code",
   "execution_count": 7,
   "metadata": {},
   "outputs": [
    {
     "data": {
      "text/plain": [
       "<!DOCTYPE html>\n",
       "\n",
       "<html lang=\"pt-BR\">\n",
       "<head>\n",
       "<meta charset=\"utf-8\"/>\n",
       "<meta content=\"width=device-width, initial-scale=1.0\" name=\"viewport\"/>\n",
       "<title>Estudo de Web Scraping com Python</title>\n",
       "</head>\n",
       "<body>\n",
       "<h1>Bem-vindo ao Estudo de Web Scraping com Python</h1>\n",
       "<p>O web scraping é uma técnica utilizada para extrair dados de sites da web. Com o Python, podemos usar bibliotecas como BeautifulSoup e Scrapy para realizar essa tarefa de maneira eficiente.</p>\n",
       "<h2>Principais Bibliotecas para Web Scraping em Python</h2>\n",
       "<ul>\n",
       "<li>BeautifulSoup</li>\n",
       "<li>Scrapy</li>\n",
       "<li>Requests</li>\n",
       "<li>Selenium</li>\n",
       "</ul>\n",
       "<h2>Exemplo de Dados para Scraping</h2>\n",
       "<table>\n",
       "<tr>\n",
       "<th>Nome</th>\n",
       "<th>Idade</th>\n",
       "<th>Profissão</th>\n",
       "</tr>\n",
       "<tr>\n",
       "<td>Ana</td>\n",
       "<td>28</td>\n",
       "<td>Engenheira</td>\n",
       "</tr>\n",
       "<tr>\n",
       "<td>João</td>\n",
       "<td>34</td>\n",
       "<td>Professor</td>\n",
       "</tr>\n",
       "<tr>\n",
       "<td>Maria</td>\n",
       "<td>25</td>\n",
       "<td>Designer</td>\n",
       "</tr>\n",
       "</table>\n",
       "<h2>Links Úteis</h2>\n",
       "<p>Abaixo estão alguns links úteis para aprender mais sobre web scraping:</p>\n",
       "<ul>\n",
       "<li><a href=\"https://www.crummy.com/software/BeautifulSoup/\" target=\"_blank\">Documentação do BeautifulSoup</a></li>\n",
       "<li><a href=\"https://scrapy.org/\" target=\"_blank\">Site oficial do Scrapy</a></li>\n",
       "<li><a href=\"https://www.selenium.dev/\" target=\"_blank\">Selenium</a></li>\n",
       "<li><a href=\"https://requests.readthedocs.io/\" target=\"_blank\">Requests</a></li>\n",
       "</ul>\n",
       "</body>\n",
       "</html>"
      ]
     },
     "execution_count": 7,
     "metadata": {},
     "output_type": "execute_result"
    }
   ],
   "source": [
    "html_parsed"
   ]
  },
  {
   "cell_type": "code",
   "execution_count": 8,
   "metadata": {},
   "outputs": [
    {
     "name": "stdout",
     "output_type": "stream",
     "text": [
      "<!DOCTYPE html>\n",
      "<html lang=\"pt-BR\">\n",
      " <head>\n",
      "  <meta charset=\"utf-8\"/>\n",
      "  <meta content=\"width=device-width, initial-scale=1.0\" name=\"viewport\"/>\n",
      "  <title>\n",
      "   Estudo de Web Scraping com Python\n",
      "  </title>\n",
      " </head>\n",
      " <body>\n",
      "  <h1>\n",
      "   Bem-vindo ao Estudo de Web Scraping com Python\n",
      "  </h1>\n",
      "  <p>\n",
      "   O web scraping é uma técnica utilizada para extrair dados de sites da web. Com o Python, podemos usar bibliotecas como BeautifulSoup e Scrapy para realizar essa tarefa de maneira eficiente.\n",
      "  </p>\n",
      "  <h2>\n",
      "   Principais Bibliotecas para Web Scraping em Python\n",
      "  </h2>\n",
      "  <ul>\n",
      "   <li>\n",
      "    BeautifulSoup\n",
      "   </li>\n",
      "   <li>\n",
      "    Scrapy\n",
      "   </li>\n",
      "   <li>\n",
      "    Requests\n",
      "   </li>\n",
      "   <li>\n",
      "    Selenium\n",
      "   </li>\n",
      "  </ul>\n",
      "  <h2>\n",
      "   Exemplo de Dados para Scraping\n",
      "  </h2>\n",
      "  <table>\n",
      "   <tr>\n",
      "    <th>\n",
      "     Nome\n",
      "    </th>\n",
      "    <th>\n",
      "     Idade\n",
      "    </th>\n",
      "    <th>\n",
      "     Profissão\n",
      "    </th>\n",
      "   </tr>\n",
      "   <tr>\n",
      "    <td>\n",
      "     Ana\n",
      "    </td>\n",
      "    <td>\n",
      "     28\n",
      "    </td>\n",
      "    <td>\n",
      "     Engenheira\n",
      "    </td>\n",
      "   </tr>\n",
      "   <tr>\n",
      "    <td>\n",
      "     João\n",
      "    </td>\n",
      "    <td>\n",
      "     34\n",
      "    </td>\n",
      "    <td>\n",
      "     Professor\n",
      "    </td>\n",
      "   </tr>\n",
      "   <tr>\n",
      "    <td>\n",
      "     Maria\n",
      "    </td>\n",
      "    <td>\n",
      "     25\n",
      "    </td>\n",
      "    <td>\n",
      "     Designer\n",
      "    </td>\n",
      "   </tr>\n",
      "  </table>\n",
      "  <h2>\n",
      "   Links Úteis\n",
      "  </h2>\n",
      "  <p>\n",
      "   Abaixo estão alguns links úteis para aprender mais sobre web scraping:\n",
      "  </p>\n",
      "  <ul>\n",
      "   <li>\n",
      "    <a href=\"https://www.crummy.com/software/BeautifulSoup/\" target=\"_blank\">\n",
      "     Documentação do BeautifulSoup\n",
      "    </a>\n",
      "   </li>\n",
      "   <li>\n",
      "    <a href=\"https://scrapy.org/\" target=\"_blank\">\n",
      "     Site oficial do Scrapy\n",
      "    </a>\n",
      "   </li>\n",
      "   <li>\n",
      "    <a href=\"https://www.selenium.dev/\" target=\"_blank\">\n",
      "     Selenium\n",
      "    </a>\n",
      "   </li>\n",
      "   <li>\n",
      "    <a href=\"https://requests.readthedocs.io/\" target=\"_blank\">\n",
      "     Requests\n",
      "    </a>\n",
      "   </li>\n",
      "  </ul>\n",
      " </body>\n",
      "</html>\n",
      "\n"
     ]
    }
   ],
   "source": [
    "print(html_parsed.prettify()) # Exibindo o HTML formatado"
   ]
  },
  {
   "cell_type": "markdown",
   "metadata": {},
   "source": [
    "#### **Métodos Principais:**\n",
    "\n",
    "- find()\n",
    "- find_all()"
   ]
  },
  {
   "cell_type": "code",
   "execution_count": 10,
   "metadata": {},
   "outputs": [
    {
     "data": {
      "text/plain": [
       "<h1>Bem-vindo ao Estudo de Web Scraping com Python</h1>"
      ]
     },
     "execution_count": 10,
     "metadata": {},
     "output_type": "execute_result"
    }
   ],
   "source": [
    "html_parsed.find('h1') # Encontrando a primeira ocorrência da tag h1"
   ]
  },
  {
   "cell_type": "code",
   "execution_count": 11,
   "metadata": {},
   "outputs": [
    {
     "data": {
      "text/plain": [
       "<p>O web scraping é uma técnica utilizada para extrair dados de sites da web. Com o Python, podemos usar bibliotecas como BeautifulSoup e Scrapy para realizar essa tarefa de maneira eficiente.</p>"
      ]
     },
     "execution_count": 11,
     "metadata": {},
     "output_type": "execute_result"
    }
   ],
   "source": [
    "html_parsed.find('p') # Encontrando a primeira ocorrência da tag p"
   ]
  },
  {
   "cell_type": "code",
   "execution_count": 12,
   "metadata": {},
   "outputs": [
    {
     "data": {
      "text/plain": [
       "[<p>O web scraping é uma técnica utilizada para extrair dados de sites da web. Com o Python, podemos usar bibliotecas como BeautifulSoup e Scrapy para realizar essa tarefa de maneira eficiente.</p>,\n",
       " <p>Abaixo estão alguns links úteis para aprender mais sobre web scraping:</p>]"
      ]
     },
     "execution_count": 12,
     "metadata": {},
     "output_type": "execute_result"
    }
   ],
   "source": [
    "html_parsed.find_all('p') # Encontrando todas as ocorrências da tag p"
   ]
  },
  {
   "cell_type": "code",
   "execution_count": 16,
   "metadata": {},
   "outputs": [
    {
     "data": {
      "text/plain": [
       "<h2 class=\"teste\">Principais Bibliotecas para Web Scraping em Python</h2>"
      ]
     },
     "execution_count": 16,
     "metadata": {},
     "output_type": "execute_result"
    }
   ],
   "source": [
    "html_parsed.find(class_ = 'teste') # Encontrando a primeira ocorrência da classe teste"
   ]
  },
  {
   "cell_type": "code",
   "execution_count": 17,
   "metadata": {},
   "outputs": [
    {
     "data": {
      "text/plain": [
       "<h1 id=\"teste2\">Bem-vindo ao Estudo de Web Scraping com Python</h1>"
      ]
     },
     "execution_count": 17,
     "metadata": {},
     "output_type": "execute_result"
    }
   ],
   "source": [
    "html_parsed.find(id = 'teste2') # Encontrando a primeira ocorrência do id teste2"
   ]
  }
 ],
 "metadata": {
  "kernelspec": {
   "display_name": "Python 3",
   "language": "python",
   "name": "python3"
  },
  "language_info": {
   "codemirror_mode": {
    "name": "ipython",
    "version": 3
   },
   "file_extension": ".py",
   "mimetype": "text/x-python",
   "name": "python",
   "nbconvert_exporter": "python",
   "pygments_lexer": "ipython3",
   "version": "3.10.11"
  }
 },
 "nbformat": 4,
 "nbformat_minor": 2
}
